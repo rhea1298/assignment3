{
 "cells": [
  {
   "cell_type": "code",
   "execution_count": 1,
   "metadata": {},
   "outputs": [],
   "source": [
    "import pandas as pd\n",
    "import numpy as np\n",
    "import matplotlib.pyplot as plt"
   ]
  },
  {
   "cell_type": "code",
   "execution_count": 2,
   "metadata": {},
   "outputs": [
    {
     "name": "stderr",
     "output_type": "stream",
     "text": [
      "Using TensorFlow backend.\n"
     ]
    }
   ],
   "source": [
    "from __future__ import print_function\n",
    "import keras\n",
    "from keras.datasets import mnist\n",
    "from keras.models import Sequential\n",
    "from keras.layers import Dense, Dropout, Flatten, Activation\n",
    "from keras import backend as K\n"
   ]
  },
  {
   "cell_type": "code",
   "execution_count": 3,
   "metadata": {},
   "outputs": [],
   "source": [
    "trainx=pd.read_pickle('trainX.pickle')"
   ]
  },
  {
   "cell_type": "code",
   "execution_count": 4,
   "metadata": {},
   "outputs": [],
   "source": [
    "trainy=pd.read_pickle('trainy.pickle')\n",
    "\n",
    "testx=pd.read_pickle('testx.pickle')"
   ]
  },
  {
   "cell_type": "code",
   "execution_count": 5,
   "metadata": {},
   "outputs": [],
   "source": [
    "trainx=trainx.reshape((60000,784))"
   ]
  },
  {
   "cell_type": "code",
   "execution_count": 18,
   "metadata": {},
   "outputs": [],
   "source": [
    "batch_size = 128\n",
    "num_classes = 10\n",
    "epochs = 100"
   ]
  },
  {
   "cell_type": "code",
   "execution_count": 7,
   "metadata": {},
   "outputs": [
    {
     "name": "stdout",
     "output_type": "stream",
     "text": [
      "x_train shape: (60000, 784)\n",
      "60000 train samples\n",
      "10000 test samples\n"
     ]
    }
   ],
   "source": [
    "trainx = trainx.astype('float32')\n",
    "testx = testx.astype('float32')\n",
    "trainx /= 255\n",
    "testx /= 255\n",
    "print('x_train shape:', trainx.shape)\n",
    "print(trainx.shape[0], 'train samples')\n",
    "print(testx.shape[0], 'test samples')\n",
    "\n",
    "# convert class vectors to binary class matrices\n",
    "trainy = keras.utils.to_categorical(trainy, num_classes)\n"
   ]
  },
  {
   "cell_type": "code",
   "execution_count": 14,
   "metadata": {},
   "outputs": [],
   "source": [
    "from sklearn.model_selection import train_test_split\n",
    "x_train,x_test,y_train,y_test=train_test_split(trainx,trainy,random_state=1)"
   ]
  },
  {
   "cell_type": "code",
   "execution_count": 9,
   "metadata": {},
   "outputs": [],
   "source": [
    "testx=testx.reshape((10000,784))"
   ]
  },
  {
   "cell_type": "code",
   "execution_count": 23,
   "metadata": {},
   "outputs": [
    {
     "name": "stdout",
     "output_type": "stream",
     "text": [
      "_________________________________________________________________\n",
      "Layer (type)                 Output Shape              Param #   \n",
      "=================================================================\n",
      "dense_4 (Dense)              (None, 500)               392500    \n",
      "_________________________________________________________________\n",
      "activation_4 (Activation)    (None, 500)               0         \n",
      "_________________________________________________________________\n",
      "dense_5 (Dense)              (None, 300)               150300    \n",
      "_________________________________________________________________\n",
      "activation_5 (Activation)    (None, 300)               0         \n",
      "_________________________________________________________________\n",
      "dense_6 (Dense)              (None, 10)                3010      \n",
      "_________________________________________________________________\n",
      "activation_6 (Activation)    (None, 10)                0         \n",
      "=================================================================\n",
      "Total params: 545,810\n",
      "Trainable params: 545,810\n",
      "Non-trainable params: 0\n",
      "_________________________________________________________________\n"
     ]
    }
   ],
   "source": [
    "model = Sequential()\n",
    "model.add(Dense(500, input_dim=784), )\n",
    "model.add(Activation('relu'))\n",
    "\n",
    "model.add(Dense(300))\n",
    "model.add(Activation('relu'))\n",
    "\n",
    "model.add(Dense(10))\n",
    "model.add(Activation('softmax'))\n",
    "\n",
    "\n",
    "model.summary()\n",
    "model.compile(loss=keras.losses.categorical_crossentropy,\n",
    "              optimizer=keras.optimizers.Adadelta(),\n",
    "              metrics=['accuracy'])"
   ]
  },
  {
   "cell_type": "code",
   "execution_count": 19,
   "metadata": {},
   "outputs": [
    {
     "name": "stdout",
     "output_type": "stream",
     "text": [
      "Train on 45000 samples, validate on 15000 samples\n",
      "Epoch 1/100\n",
      "45000/45000 [==============================] - 6s 142us/step - loss: 0.0220 - acc: 0.9927 - val_loss: 0.4271 - val_acc: 0.9237\n",
      "Epoch 2/100\n",
      "45000/45000 [==============================] - 5s 106us/step - loss: 0.0226 - acc: 0.9922 - val_loss: 0.4523 - val_acc: 0.9203\n",
      "Epoch 3/100\n",
      "45000/45000 [==============================] - 5s 103us/step - loss: 0.0189 - acc: 0.9938 - val_loss: 0.4403 - val_acc: 0.9221\n",
      "Epoch 4/100\n",
      "45000/45000 [==============================] - 5s 108us/step - loss: 0.0196 - acc: 0.9933 - val_loss: 0.4443 - val_acc: 0.9191\n",
      "Epoch 5/100\n",
      "45000/45000 [==============================] - 5s 106us/step - loss: 0.0183 - acc: 0.9936 - val_loss: 0.4529 - val_acc: 0.9191\n",
      "Epoch 6/100\n",
      "45000/45000 [==============================] - 5s 102us/step - loss: 0.0192 - acc: 0.9937 - val_loss: 0.5069 - val_acc: 0.9119\n",
      "Epoch 7/100\n",
      "45000/45000 [==============================] - 5s 110us/step - loss: 0.0166 - acc: 0.9942 - val_loss: 0.4575 - val_acc: 0.9196\n",
      "Epoch 8/100\n",
      "45000/45000 [==============================] - 5s 112us/step - loss: 0.0200 - acc: 0.9933 - val_loss: 0.4577 - val_acc: 0.9188\n",
      "Epoch 9/100\n",
      "45000/45000 [==============================] - 6s 131us/step - loss: 0.0180 - acc: 0.9942 - val_loss: 0.4643 - val_acc: 0.9180\n",
      "Epoch 10/100\n",
      "45000/45000 [==============================] - 6s 133us/step - loss: 0.0175 - acc: 0.9942 - val_loss: 0.4623 - val_acc: 0.9186\n",
      "Epoch 11/100\n",
      "45000/45000 [==============================] - 5s 118us/step - loss: 0.0178 - acc: 0.9941 - val_loss: 0.4462 - val_acc: 0.9140\n",
      "Epoch 12/100\n",
      "45000/45000 [==============================] - 5s 116us/step - loss: 0.0138 - acc: 0.9954 - val_loss: 0.4760 - val_acc: 0.9211\n",
      "Epoch 13/100\n",
      "45000/45000 [==============================] - 5s 110us/step - loss: 0.0162 - acc: 0.9946 - val_loss: 0.5057 - val_acc: 0.9179\n",
      "Epoch 14/100\n",
      "45000/45000 [==============================] - 5s 109us/step - loss: 0.0168 - acc: 0.9941 - val_loss: 0.4656 - val_acc: 0.9191\n",
      "Epoch 15/100\n",
      "45000/45000 [==============================] - 5s 108us/step - loss: 0.0138 - acc: 0.9953 - val_loss: 0.4760 - val_acc: 0.9228\n",
      "Epoch 16/100\n",
      "45000/45000 [==============================] - 5s 108us/step - loss: 0.0149 - acc: 0.9953 - val_loss: 0.4608 - val_acc: 0.9187\n",
      "Epoch 17/100\n",
      "45000/45000 [==============================] - 5s 110us/step - loss: 0.0128 - acc: 0.9957 - val_loss: 0.5107 - val_acc: 0.9201\n",
      "Epoch 18/100\n",
      "45000/45000 [==============================] - 5s 109us/step - loss: 0.0143 - acc: 0.9953 - val_loss: 0.4647 - val_acc: 0.9202\n",
      "Epoch 19/100\n",
      "45000/45000 [==============================] - 5s 110us/step - loss: 0.0130 - acc: 0.9959 - val_loss: 0.5119 - val_acc: 0.9186\n",
      "Epoch 20/100\n",
      "45000/45000 [==============================] - 5s 108us/step - loss: 0.0172 - acc: 0.9941 - val_loss: 0.5202 - val_acc: 0.9161\n",
      "Epoch 21/100\n",
      "45000/45000 [==============================] - 5s 106us/step - loss: 0.0127 - acc: 0.9956 - val_loss: 0.5205 - val_acc: 0.9174\n",
      "Epoch 22/100\n",
      "45000/45000 [==============================] - 5s 106us/step - loss: 0.0133 - acc: 0.9956 - val_loss: 0.5292 - val_acc: 0.9167\n",
      "Epoch 23/100\n",
      "45000/45000 [==============================] - 5s 107us/step - loss: 0.0123 - acc: 0.9960 - val_loss: 0.5088 - val_acc: 0.9203\n",
      "Epoch 24/100\n",
      "45000/45000 [==============================] - 5s 108us/step - loss: 0.0116 - acc: 0.9962 - val_loss: 0.5139 - val_acc: 0.9195\n",
      "Epoch 25/100\n",
      "45000/45000 [==============================] - 5s 107us/step - loss: 0.0090 - acc: 0.9973 - val_loss: 0.5096 - val_acc: 0.9198\n",
      "Epoch 26/100\n",
      "45000/45000 [==============================] - 6s 126us/step - loss: 0.0111 - acc: 0.9965 - val_loss: 0.5676 - val_acc: 0.9153\n",
      "Epoch 27/100\n",
      "45000/45000 [==============================] - 5s 110us/step - loss: 0.0113 - acc: 0.9965 - val_loss: 0.4873 - val_acc: 0.9229\n",
      "Epoch 28/100\n",
      "45000/45000 [==============================] - 5s 112us/step - loss: 0.0107 - acc: 0.9971 - val_loss: 0.5158 - val_acc: 0.9211\n",
      "Epoch 29/100\n",
      "45000/45000 [==============================] - 5s 109us/step - loss: 0.0121 - acc: 0.9965 - val_loss: 0.5372 - val_acc: 0.9195\n",
      "Epoch 30/100\n",
      "45000/45000 [==============================] - 5s 117us/step - loss: 0.0095 - acc: 0.9969 - val_loss: 0.5300 - val_acc: 0.9171\n",
      "Epoch 31/100\n",
      "45000/45000 [==============================] - 5s 115us/step - loss: 0.0099 - acc: 0.9968 - val_loss: 0.5371 - val_acc: 0.9201\n",
      "Epoch 32/100\n",
      "45000/45000 [==============================] - 5s 110us/step - loss: 0.0088 - acc: 0.9974 - val_loss: 0.5638 - val_acc: 0.9155\n",
      "Epoch 33/100\n",
      "45000/45000 [==============================] - 5s 110us/step - loss: 0.0119 - acc: 0.9961 - val_loss: 0.5360 - val_acc: 0.9187\n",
      "Epoch 34/100\n",
      "45000/45000 [==============================] - 5s 115us/step - loss: 0.0111 - acc: 0.9966 - val_loss: 0.5225 - val_acc: 0.9195\n",
      "Epoch 35/100\n",
      "45000/45000 [==============================] - 5s 112us/step - loss: 0.0112 - acc: 0.9966 - val_loss: 0.5243 - val_acc: 0.9187\n",
      "Epoch 36/100\n",
      "45000/45000 [==============================] - 5s 114us/step - loss: 0.0103 - acc: 0.9967 - val_loss: 0.5378 - val_acc: 0.9210\n",
      "Epoch 37/100\n",
      "45000/45000 [==============================] - 5s 112us/step - loss: 0.0108 - acc: 0.9965 - val_loss: 0.5442 - val_acc: 0.9166\n",
      "Epoch 38/100\n",
      "45000/45000 [==============================] - 5s 115us/step - loss: 0.0091 - acc: 0.9973 - val_loss: 0.5447 - val_acc: 0.9213\n",
      "Epoch 39/100\n",
      "45000/45000 [==============================] - 5s 114us/step - loss: 0.0075 - acc: 0.9979 - val_loss: 0.5512 - val_acc: 0.9199\n",
      "Epoch 40/100\n",
      "45000/45000 [==============================] - 5s 113us/step - loss: 0.0081 - acc: 0.9974 - val_loss: 0.5156 - val_acc: 0.9195\n",
      "Epoch 41/100\n",
      "45000/45000 [==============================] - 5s 115us/step - loss: 0.0077 - acc: 0.9979 - val_loss: 0.5828 - val_acc: 0.9187\n",
      "Epoch 42/100\n",
      "45000/45000 [==============================] - 5s 115us/step - loss: 0.0074 - acc: 0.9976 - val_loss: 0.5573 - val_acc: 0.9203\n",
      "Epoch 43/100\n",
      "45000/45000 [==============================] - 5s 119us/step - loss: 0.0074 - acc: 0.9976 - val_loss: 0.5621 - val_acc: 0.9202\n",
      "Epoch 44/100\n",
      "45000/45000 [==============================] - 5s 114us/step - loss: 0.0088 - acc: 0.9978 - val_loss: 0.5589 - val_acc: 0.9203\n",
      "Epoch 45/100\n",
      "45000/45000 [==============================] - 5s 114us/step - loss: 0.0111 - acc: 0.9967 - val_loss: 0.6435 - val_acc: 0.9110\n",
      "Epoch 46/100\n",
      "45000/45000 [==============================] - 5s 120us/step - loss: 0.0078 - acc: 0.9975 - val_loss: 0.5414 - val_acc: 0.9206\n",
      "Epoch 47/100\n",
      "45000/45000 [==============================] - 5s 114us/step - loss: 0.0114 - acc: 0.9967 - val_loss: 0.5536 - val_acc: 0.9178\n",
      "Epoch 48/100\n",
      "45000/45000 [==============================] - 5s 113us/step - loss: 0.0103 - acc: 0.9968 - val_loss: 0.5568 - val_acc: 0.9217\n",
      "Epoch 49/100\n",
      "45000/45000 [==============================] - 5s 113us/step - loss: 0.0075 - acc: 0.9978 - val_loss: 0.5565 - val_acc: 0.9219\n",
      "Epoch 50/100\n",
      "45000/45000 [==============================] - 5s 118us/step - loss: 0.0082 - acc: 0.9976 - val_loss: 0.5353 - val_acc: 0.9223\n",
      "Epoch 51/100\n",
      "45000/45000 [==============================] - 5s 112us/step - loss: 0.0092 - acc: 0.9970 - val_loss: 0.6232 - val_acc: 0.9127\n",
      "Epoch 52/100\n",
      "45000/45000 [==============================] - 5s 115us/step - loss: 0.0080 - acc: 0.9979 - val_loss: 0.5513 - val_acc: 0.9227\n",
      "Epoch 53/100\n",
      "45000/45000 [==============================] - 5s 113us/step - loss: 0.0113 - acc: 0.9968 - val_loss: 0.5958 - val_acc: 0.9185\n",
      "Epoch 54/100\n",
      "45000/45000 [==============================] - 5s 119us/step - loss: 0.0082 - acc: 0.9973 - val_loss: 0.5533 - val_acc: 0.9197\n",
      "Epoch 55/100\n",
      "45000/45000 [==============================] - 5s 116us/step - loss: 0.0067 - acc: 0.9982 - val_loss: 0.5584 - val_acc: 0.9158\n",
      "Epoch 56/100\n",
      "45000/45000 [==============================] - 5s 113us/step - loss: 0.0074 - acc: 0.9979 - val_loss: 0.5697 - val_acc: 0.9203\n",
      "Epoch 57/100\n",
      "45000/45000 [==============================] - 5s 115us/step - loss: 0.0072 - acc: 0.9980 - val_loss: 0.6989 - val_acc: 0.9091\n",
      "Epoch 58/100\n",
      "45000/45000 [==============================] - 5s 113us/step - loss: 0.0089 - acc: 0.9972 - val_loss: 0.6263 - val_acc: 0.9153\n",
      "Epoch 59/100\n"
     ]
    },
    {
     "name": "stdout",
     "output_type": "stream",
     "text": [
      "45000/45000 [==============================] - 5s 112us/step - loss: 0.0082 - acc: 0.9974 - val_loss: 0.5691 - val_acc: 0.9213\n",
      "Epoch 60/100\n",
      "45000/45000 [==============================] - 5s 105us/step - loss: 0.0071 - acc: 0.9977 - val_loss: 0.5703 - val_acc: 0.9197\n",
      "Epoch 61/100\n",
      "45000/45000 [==============================] - 5s 105us/step - loss: 0.0071 - acc: 0.9979 - val_loss: 0.5874 - val_acc: 0.9181\n",
      "Epoch 62/100\n",
      "45000/45000 [==============================] - 5s 106us/step - loss: 0.0062 - acc: 0.9983 - val_loss: 0.5756 - val_acc: 0.9189\n",
      "Epoch 63/100\n",
      "45000/45000 [==============================] - 5s 110us/step - loss: 0.0052 - acc: 0.9986 - val_loss: 0.5682 - val_acc: 0.9205\n",
      "Epoch 64/100\n",
      "45000/45000 [==============================] - 5s 107us/step - loss: 0.0040 - acc: 0.9990 - val_loss: 0.6244 - val_acc: 0.9205\n",
      "Epoch 65/100\n",
      "45000/45000 [==============================] - 5s 108us/step - loss: 0.0060 - acc: 0.9983 - val_loss: 0.6091 - val_acc: 0.9121\n",
      "Epoch 66/100\n",
      "45000/45000 [==============================] - 5s 111us/step - loss: 0.0037 - acc: 0.9993 - val_loss: 0.6291 - val_acc: 0.9173\n",
      "Epoch 67/100\n",
      "45000/45000 [==============================] - 5s 107us/step - loss: 0.0070 - acc: 0.9979 - val_loss: 0.6278 - val_acc: 0.9141\n",
      "Epoch 68/100\n",
      "45000/45000 [==============================] - 6s 125us/step - loss: 0.0056 - acc: 0.9984 - val_loss: 0.6185 - val_acc: 0.9129\n",
      "Epoch 69/100\n",
      "45000/45000 [==============================] - 6s 125us/step - loss: 0.0043 - acc: 0.9989 - val_loss: 0.6225 - val_acc: 0.9213\n",
      "Epoch 70/100\n",
      "45000/45000 [==============================] - 5s 105us/step - loss: 0.0038 - acc: 0.9991 - val_loss: 0.6145 - val_acc: 0.9194\n",
      "Epoch 71/100\n",
      "45000/45000 [==============================] - 5s 106us/step - loss: 0.0039 - acc: 0.9990 - val_loss: 0.5957 - val_acc: 0.9190\n",
      "Epoch 72/100\n",
      "45000/45000 [==============================] - 5s 116us/step - loss: 0.0070 - acc: 0.9981 - val_loss: 0.5988 - val_acc: 0.9189\n",
      "Epoch 73/100\n",
      "45000/45000 [==============================] - 5s 115us/step - loss: 0.0055 - acc: 0.9985 - val_loss: 0.5945 - val_acc: 0.9199\n",
      "Epoch 74/100\n",
      "45000/45000 [==============================] - 5s 111us/step - loss: 0.0043 - acc: 0.9988 - val_loss: 0.6076 - val_acc: 0.9182\n",
      "Epoch 75/100\n",
      "45000/45000 [==============================] - 5s 111us/step - loss: 0.0069 - acc: 0.9981 - val_loss: 0.5946 - val_acc: 0.9179\n",
      "Epoch 76/100\n",
      "45000/45000 [==============================] - 5s 111us/step - loss: 0.0025 - acc: 0.9994 - val_loss: 0.5840 - val_acc: 0.9217\n",
      "Epoch 77/100\n",
      "45000/45000 [==============================] - 5s 113us/step - loss: 0.0027 - acc: 0.9993 - val_loss: 0.8043 - val_acc: 0.9095\n",
      "Epoch 78/100\n",
      "45000/45000 [==============================] - 5s 116us/step - loss: 0.0047 - acc: 0.9989 - val_loss: 0.6213 - val_acc: 0.9217\n",
      "Epoch 79/100\n",
      "45000/45000 [==============================] - 5s 112us/step - loss: 0.0070 - acc: 0.9980 - val_loss: 0.5838 - val_acc: 0.9209\n",
      "Epoch 80/100\n",
      "45000/45000 [==============================] - 5s 111us/step - loss: 0.0062 - acc: 0.9983 - val_loss: 0.6026 - val_acc: 0.9184\n",
      "Epoch 81/100\n",
      "45000/45000 [==============================] - 5s 113us/step - loss: 0.0047 - acc: 0.9985 - val_loss: 0.5968 - val_acc: 0.9223\n",
      "Epoch 82/100\n",
      "45000/45000 [==============================] - 5s 111us/step - loss: 0.0012 - acc: 0.9999 - val_loss: 0.6117 - val_acc: 0.9221\n",
      "Epoch 83/100\n",
      "45000/45000 [==============================] - 5s 114us/step - loss: 0.0030 - acc: 0.9991 - val_loss: 0.6456 - val_acc: 0.9161\n",
      "Epoch 84/100\n",
      "45000/45000 [==============================] - 5s 111us/step - loss: 0.0045 - acc: 0.9988 - val_loss: 0.6151 - val_acc: 0.9204\n",
      "Epoch 85/100\n",
      "45000/45000 [==============================] - 5s 111us/step - loss: 0.0076 - acc: 0.9979 - val_loss: 0.5709 - val_acc: 0.9204\n",
      "Epoch 86/100\n",
      "45000/45000 [==============================] - 5s 111us/step - loss: 0.0055 - acc: 0.9986 - val_loss: 0.6099 - val_acc: 0.9196\n",
      "Epoch 87/100\n",
      "45000/45000 [==============================] - 5s 117us/step - loss: 0.0026 - acc: 0.9995 - val_loss: 0.6219 - val_acc: 0.9216\n",
      "Epoch 88/100\n",
      "45000/45000 [==============================] - 5s 117us/step - loss: 0.0067 - acc: 0.9984 - val_loss: 0.6013 - val_acc: 0.9204\n",
      "Epoch 89/100\n",
      "45000/45000 [==============================] - 6s 130us/step - loss: 0.0030 - acc: 0.9994 - val_loss: 0.6475 - val_acc: 0.9169\n",
      "Epoch 90/100\n",
      "45000/45000 [==============================] - 5s 119us/step - loss: 0.0057 - acc: 0.9984 - val_loss: 0.6038 - val_acc: 0.9207\n",
      "Epoch 91/100\n",
      "45000/45000 [==============================] - 5s 119us/step - loss: 0.0033 - acc: 0.9991 - val_loss: 0.6143 - val_acc: 0.9216\n",
      "Epoch 92/100\n",
      "45000/45000 [==============================] - 5s 115us/step - loss: 9.6431e-04 - acc: 0.9999 - val_loss: 0.6258 - val_acc: 0.9227\n",
      "Epoch 93/100\n",
      "45000/45000 [==============================] - 5s 116us/step - loss: 7.6251e-04 - acc: 1.0000 - val_loss: 0.6284 - val_acc: 0.9241\n",
      "Epoch 94/100\n",
      "45000/45000 [==============================] - 6s 123us/step - loss: 7.4435e-04 - acc: 1.0000 - val_loss: 0.6339 - val_acc: 0.9240\n",
      "Epoch 95/100\n",
      "45000/45000 [==============================] - 5s 122us/step - loss: 7.4096e-04 - acc: 1.0000 - val_loss: 0.6381 - val_acc: 0.9247\n",
      "Epoch 96/100\n",
      "45000/45000 [==============================] - 6s 122us/step - loss: 7.3694e-04 - acc: 1.0000 - val_loss: 0.6379 - val_acc: 0.9243\n",
      "Epoch 97/100\n",
      "45000/45000 [==============================] - 5s 121us/step - loss: 7.3805e-04 - acc: 1.0000 - val_loss: 0.6411 - val_acc: 0.9249\n",
      "Epoch 98/100\n",
      "45000/45000 [==============================] - 5s 119us/step - loss: 7.3483e-04 - acc: 1.0000 - val_loss: 0.6399 - val_acc: 0.9239\n",
      "Epoch 99/100\n",
      "45000/45000 [==============================] - 5s 115us/step - loss: 7.3302e-04 - acc: 1.0000 - val_loss: 0.6409 - val_acc: 0.9241\n",
      "Epoch 100/100\n",
      "45000/45000 [==============================] - 5s 118us/step - loss: 7.3238e-04 - acc: 1.0000 - val_loss: 0.6384 - val_acc: 0.9239\n",
      "Test loss: 0.6383676656370952\n",
      "Test accuracy: 0.9239333333333334\n"
     ]
    }
   ],
   "source": [
    "model.fit(x_train, y_train,\n",
    "          batch_size=batch_size,\n",
    "          epochs=epochs,\n",
    "          verbose=1,\n",
    "          validation_data=(x_test, y_test))\n",
    "\n",
    "score = model.evaluate(x_test, y_test, verbose=0)\n",
    "print('Test loss:', score[0])\n",
    "print('Test accuracy:', score[1])"
   ]
  },
  {
   "cell_type": "code",
   "execution_count": 20,
   "metadata": {},
   "outputs": [],
   "source": [
    "testy=model.predict(testx)"
   ]
  },
  {
   "cell_type": "code",
   "execution_count": 27,
   "metadata": {},
   "outputs": [],
   "source": [
    "import pickle\n",
    "\n",
    "with open('testy.pickle','wb') as f:\n",
    "      pickle.dump(testy, f)"
   ]
  },
  {
   "cell_type": "code",
   "execution_count": null,
   "metadata": {},
   "outputs": [],
   "source": []
  }
 ],
 "metadata": {
  "kernelspec": {
   "display_name": "Python 3",
   "language": "python",
   "name": "python3"
  },
  "language_info": {
   "codemirror_mode": {
    "name": "ipython",
    "version": 3
   },
   "file_extension": ".py",
   "mimetype": "text/x-python",
   "name": "python",
   "nbconvert_exporter": "python",
   "pygments_lexer": "ipython3",
   "version": "3.7.3"
  }
 },
 "nbformat": 4,
 "nbformat_minor": 2
}
